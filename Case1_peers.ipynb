{
  "nbformat": 4,
  "nbformat_minor": 0,
  "metadata": {
    "colab": {
      "provenance": [],
      "authorship_tag": "ABX9TyPilsiU+opOS1cL7AkzZigw",
      "include_colab_link": true
    },
    "kernelspec": {
      "name": "python3",
      "display_name": "Python 3"
    },
    "language_info": {
      "name": "python"
    }
  },
  "cells": [
    {
      "cell_type": "markdown",
      "metadata": {
        "id": "view-in-github",
        "colab_type": "text"
      },
      "source": [
        "<a href=\"https://colab.research.google.com/github/JSGCunha/JSGCunha/blob/main/Case1_peers.ipynb\" target=\"_parent\"><img src=\"https://colab.research.google.com/assets/colab-badge.svg\" alt=\"Open In Colab\"/></a>"
      ]
    },
    {
      "cell_type": "code",
      "source": [
        "!pip install fpdf"
      ],
      "metadata": {
        "colab": {
          "base_uri": "https://localhost:8080/",
          "height": 0
        },
        "id": "saLeu_I_2J9a",
        "outputId": "2095e0c6-9f19-4e01-c824-3d9279e23bcc"
      },
      "execution_count": 3,
      "outputs": [
        {
          "output_type": "stream",
          "name": "stdout",
          "text": [
            "Collecting fpdf\n",
            "  Downloading fpdf-1.7.2.tar.gz (39 kB)\n",
            "  Preparing metadata (setup.py) ... \u001b[?25l\u001b[?25hdone\n",
            "Building wheels for collected packages: fpdf\n",
            "  Building wheel for fpdf (setup.py) ... \u001b[?25l\u001b[?25hdone\n",
            "  Created wheel for fpdf: filename=fpdf-1.7.2-py2.py3-none-any.whl size=40704 sha256=c4de60749d0a7d6f29033ac43f6ac2da8bf18c3b9ba90042d5b9ef20db4ab593\n",
            "  Stored in directory: /root/.cache/pip/wheels/65/4f/66/bbda9866da446a72e206d6484cd97381cbc7859a7068541c36\n",
            "Successfully built fpdf\n",
            "Installing collected packages: fpdf\n",
            "Successfully installed fpdf-1.7.2\n"
          ]
        }
      ]
    },
    {
      "cell_type": "code",
      "execution_count": 4,
      "metadata": {
        "colab": {
          "base_uri": "https://localhost:8080/",
          "height": 0
        },
        "id": "PdXMVEIO1sUH",
        "outputId": "d944ab80-2fa9-4971-cb21-cc906a97b025"
      },
      "outputs": [
        {
          "output_type": "stream",
          "name": "stdout",
          "text": [
            "Relatório salvo em: relatorio_resultados.pdf\n"
          ]
        }
      ],
      "source": [
        "import pandas as pd\n",
        "from fpdf import FPDF\n",
        "\n",
        "# Nome do arquivo Excel\n",
        "excel_file_name = 'Case_Infomaz_Base_de_Dados.xlsx'\n",
        "output_pdf = 'relatorio_resultados.pdf'\n",
        "\n",
        "class PDF(FPDF):\n",
        "    def header(self):\n",
        "        self.set_font('Arial', 'B', 12)\n",
        "        self.cell(0, 10, 'Relatório de Resultados - Case Infomaz', ln=True, align='C')\n",
        "        self.ln(5)\n",
        "\n",
        "    def add_table(self, title, df):\n",
        "        self.set_font('Arial', 'B', 11)\n",
        "        self.cell(0, 10, title, ln=True)\n",
        "        self.set_font('Arial', '', 9)\n",
        "        for row in df.itertuples(index=False):\n",
        "            row_text = ' | '.join(str(item) for item in row)\n",
        "            self.multi_cell(0, 5, row_text)\n",
        "        self.ln(5)\n",
        "\n",
        "pdf = PDF()\n",
        "pdf.add_page()\n",
        "\n",
        "# Carregar dados\n",
        "excel_file = pd.ExcelFile(excel_file_name)\n",
        "dataframes = {sheet: excel_file.parse(sheet, header=1) for sheet in excel_file.sheet_names}\n",
        "\n",
        "# Pré-processamento\n",
        "for df in dataframes.values():\n",
        "    df.columns = df.columns.astype(str).str.strip().str.replace('\\n', '', regex=False)\n",
        "\n",
        "def conv_num(col):\n",
        "    return pd.to_numeric(col.astype(str).str.replace(',', '.', regex=False), errors='coerce')\n",
        "\n",
        "transacoes_vendas_df = dataframes.get('Transações Vendas')\n",
        "cadastro_produtos_df = dataframes.get('Cadastro Produtos')\n",
        "cadastro_estoque_df = dataframes.get('Cadastro de Estoque')\n",
        "cadastro_clientes_df = dataframes.get('Cadastro Clientes')\n",
        "cadastro_fornecedores_df = dataframes.get('Cadastro Fornecedores')\n",
        "\n",
        "transacoes_vendas_df['VALOR ITEM'] = conv_num(transacoes_vendas_df['VALOR ITEM'])\n",
        "transacoes_vendas_df['QTD ITEM'] = pd.to_numeric(transacoes_vendas_df['QTD ITEM'], errors='coerce')\n",
        "transacoes_vendas_df['DATA NOTA'] = pd.to_datetime(transacoes_vendas_df['DATA NOTA'], errors='coerce')\n",
        "transacoes_vendas_df['ANO_MES'] = transacoes_vendas_df['DATA NOTA'].dt.to_period('M')\n",
        "\n",
        "cadastro_estoque_df['VALOR ESTOQUE'] = conv_num(cadastro_estoque_df['VALOR ESTOQUE']) / 100\n",
        "cadastro_estoque_df['QTD ESTOQUE'] = pd.to_numeric(cadastro_estoque_df['QTD ESTOQUE'], errors='coerce')\n",
        "cadastro_estoque_df['DATA ESTOQUE'] = pd.to_datetime(cadastro_estoque_df['DATA ESTOQUE'], errors='coerce')\n",
        "cadastro_estoque_df['ANO_MES'] = cadastro_estoque_df['DATA ESTOQUE'].dt.to_period('M')\n",
        "\n",
        "# Pergunta 2\n",
        "merged = pd.merge(transacoes_vendas_df, cadastro_produtos_df, on='ID PRODUTO', how='left')\n",
        "merged = pd.merge(merged, cadastro_estoque_df[['ID ESTOQUE', 'VALOR ESTOQUE']], on='ID ESTOQUE', how='left')\n",
        "merged.dropna(subset=['VALOR ITEM', 'VALOR ESTOQUE', 'QTD ITEM'], inplace=True)\n",
        "merged['MARGEM_ITEM_UNITARIO'] = merged['VALOR ITEM'] - merged['VALOR ESTOQUE']\n",
        "merged['TOTAL_MARGEM_ITEM'] = merged['MARGEM_ITEM_UNITARIO'] * merged['QTD ITEM']\n",
        "pdf.add_table(\"Margem Média por Produto\", merged.groupby(['ID PRODUTO', 'NOME PRODUTO'])['MARGEM_ITEM_UNITARIO'].mean().reset_index())\n",
        "merged['CATEGORIA'] = merged['CATEGORIA'].fillna('Sem Categoria')\n",
        "pdf.add_table(\"Margem Total por Categoria\", merged.groupby('CATEGORIA')['TOTAL_MARGEM_ITEM'].sum().reset_index())\n",
        "\n",
        "# Pergunta 3\n",
        "cliente_mes = transacoes_vendas_df.groupby(['ID CLIENTE', 'ANO_MES'])['QTD ITEM'].sum().reset_index()\n",
        "cliente_mes = pd.merge(cliente_mes, cadastro_clientes_df, on='ID CLIENTE', how='left')\n",
        "cliente_mes['NOME CLIENTE'] = cliente_mes['NOME CLIENTE'].fillna(cliente_mes['ID CLIENTE'].apply(lambda x: f\"Cliente ID {x}\"))\n",
        "pdf.add_table(\"Ranking Clientes por QTD/Mês\", cliente_mes)\n",
        "\n",
        "# Pergunta 4\n",
        "fornecedor_mes = cadastro_estoque_df.groupby(['ID FORNECEDOR', 'ANO_MES'])['QTD ESTOQUE'].sum().reset_index()\n",
        "fornecedor_mes = pd.merge(fornecedor_mes, cadastro_fornecedores_df, on='ID FORNECEDOR', how='left')\n",
        "fornecedor_mes['NOME FORNECEDOR'] = fornecedor_mes['NOME FORNECEDOR'].fillna(fornecedor_mes['ID FORNECEDOR'].apply(lambda x: f\"Fornecedor ID {x}\"))\n",
        "pdf.add_table(\"Ranking Fornecedores por Estoque/Mês\", fornecedor_mes)\n",
        "\n",
        "# Pergunta 5\n",
        "qtd_mes = transacoes_vendas_df.groupby(['ID PRODUTO', 'ANO_MES'])['QTD ITEM'].sum().reset_index()\n",
        "qtd_mes = pd.merge(qtd_mes, cadastro_produtos_df[['ID PRODUTO', 'NOME PRODUTO']], on='ID PRODUTO', how='left')\n",
        "pdf.add_table(\"Ranking Produtos por QTD/Mês\", qtd_mes)\n",
        "\n",
        "# Pergunta 6\n",
        "transacoes_vendas_df['TOTAL VENDA ITEM'] = transacoes_vendas_df['VALOR ITEM'] * transacoes_vendas_df['QTD ITEM']\n",
        "valor_mes = transacoes_vendas_df.groupby(['ID PRODUTO', 'ANO_MES'])['TOTAL VENDA ITEM'].sum().reset_index()\n",
        "valor_mes = pd.merge(valor_mes, cadastro_produtos_df[['ID PRODUTO', 'NOME PRODUTO']], on='ID PRODUTO', how='left')\n",
        "pdf.add_table(\"Ranking Produtos por Valor Venda/Mês\", valor_mes)\n",
        "\n",
        "# Pergunta 7\n",
        "categoria = pd.merge(transacoes_vendas_df[['ID PRODUTO', 'TOTAL VENDA ITEM', 'ANO_MES']], cadastro_produtos_df[['ID PRODUTO', 'CATEGORIA']], on='ID PRODUTO', how='left')\n",
        "categoria['CATEGORIA'] = categoria['CATEGORIA'].fillna('Sem Categoria')\n",
        "pdf.add_table(\"Média Valor Venda por Categoria/Mês\", categoria.groupby(['CATEGORIA', 'ANO_MES'])['TOTAL VENDA ITEM'].mean().reset_index())\n",
        "\n",
        "# Pergunta 8\n",
        "lucro = pd.merge(transacoes_vendas_df[['ID PRODUTO', 'VALOR ITEM', 'QTD ITEM']], cadastro_produtos_df[['ID PRODUTO', 'ID ESTOQUE', 'CATEGORIA']], on='ID PRODUTO', how='left')\n",
        "lucro = pd.merge(lucro, cadastro_estoque_df[['ID ESTOQUE', 'VALOR ESTOQUE']], on='ID ESTOQUE', how='left')\n",
        "lucro.dropna(subset=['VALOR ITEM', 'VALOR ESTOQUE', 'QTD ITEM'], inplace=True)\n",
        "lucro['MARGEM_ITEM_UNITARIO'] = lucro['VALOR ITEM'] - lucro['VALOR ESTOQUE']\n",
        "lucro['TOTAL_MARGEM_ITEM'] = lucro['MARGEM_ITEM_UNITARIO'] * lucro['QTD ITEM']\n",
        "pdf.add_table(\"Ranking Margem por Categoria\", lucro.groupby('CATEGORIA')['TOTAL_MARGEM_ITEM'].sum().reset_index())\n",
        "\n",
        "# Pergunta 9\n",
        "compras = pd.merge(transacoes_vendas_df[['ID CLIENTE', 'ID PRODUTO']], cadastro_clientes_df, on='ID CLIENTE', how='left')\n",
        "compras = pd.merge(compras, cadastro_produtos_df[['ID PRODUTO', 'NOME PRODUTO']], on='ID PRODUTO', how='left')\n",
        "compras.drop_duplicates(subset=['ID CLIENTE', 'ID PRODUTO'], inplace=True)\n",
        "pdf.add_table(\"Produtos Comprados por Cliente\", compras[['NOME CLIENTE', 'NOME PRODUTO']].fillna('Desconhecido'))\n",
        "\n",
        "# Pergunta 10\n",
        "estoque_final = pd.merge(cadastro_estoque_df[['ID ESTOQUE', 'QTD ESTOQUE']], cadastro_produtos_df[['ID PRODUTO', 'ID ESTOQUE', 'NOME PRODUTO']], on='ID ESTOQUE', how='left')\n",
        "estoque_final.dropna(subset=['ID PRODUTO', 'QTD ESTOQUE'], inplace=True)\n",
        "est_total = estoque_final.groupby(['ID PRODUTO', 'NOME PRODUTO'])['QTD ESTOQUE'].sum().reset_index()\n",
        "pdf.add_table(\"Ranking Produtos por Estoque\", est_total)\n",
        "\n",
        "pdf.output(output_pdf)\n",
        "print(f\"Relatório salvo em: {output_pdf}\")\n"
      ]
    }
  ]
}